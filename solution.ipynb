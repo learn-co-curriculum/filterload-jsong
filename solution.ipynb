{
 "cells": [
  {
   "cell_type": "markdown",
   "metadata": {},
   "source": [
    "# Loading a Bloom Filter"
   ]
  },
  {
   "cell_type": "markdown",
   "metadata": {},
   "source": [
    "## Test Driven Exercise"
   ]
  },
  {
   "cell_type": "code",
   "execution_count": null,
   "metadata": {},
   "outputs": [],
   "source": [
    "# Exercise 2.1\n",
    "\n",
    "from bloomfilter import BloomFilter\n",
    "from helper import (\n",
    "    encode_varint,\n",
    "    int_to_little_endian\n",
    ")\n",
    "\n",
    "class BloomFilter(BloomFilter):\n",
    "\n",
    "    def filterload(self, flag=1):\n",
    "        '''Return the payload that goes in a filterload message'''\n",
    "        # encode_varint self.size\n",
    "        payload = encode_varint(self.size)\n",
    "        # next is the self.filter_bytes()\n",
    "        payload += self.filter_bytes()\n",
    "        # function count is 4 bytes little endian\n",
    "        payload += int_to_little_endian(self.function_count, 4)\n",
    "        # tweak is 4 bytes little endian\n",
    "        payload += int_to_little_endian(self.tweak, 4)\n",
    "        # flag is 1 byte little endian\n",
    "        payload += int_to_little_endian(flag, 1)\n",
    "        return payload"
   ]
  }
 ],
 "metadata": {
  "kernelspec": {
   "display_name": "Python 3",
   "language": "python",
   "name": "python3"
  },
  "language_info": {
   "codemirror_mode": {
    "name": "ipython",
    "version": 3
   },
   "file_extension": ".py",
   "mimetype": "text/x-python",
   "name": "python",
   "nbconvert_exporter": "python",
   "pygments_lexer": "ipython3",
   "version": "3.6.5"
  }
 },
 "nbformat": 4,
 "nbformat_minor": 2
}
